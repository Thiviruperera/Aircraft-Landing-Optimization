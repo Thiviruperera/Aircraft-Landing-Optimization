{
 "cells": [
  {
   "cell_type": "markdown",
   "id": "5b280290",
   "metadata": {},
   "source": [
    "# Scheduling Aircraft Landings for a Single Runway (Static Case)  \n",
    "\n",
    "#### 6DATA005W.1 Advanced Analytics - Coursework Implementation (2022/23)\n",
    "\n",
    "#### Name - Maddumage Thiviru Sanmuthu Perera\n",
    "\n",
    "#### Student Number - w17613556"
   ]
  },
  {
   "cell_type": "code",
   "execution_count": null,
   "id": "c3ac79d5",
   "metadata": {
    "scrolled": true
   },
   "outputs": [],
   "source": [
    "# Installing the libraries\n",
    "\n",
    "!pip install gurobipy\n",
    "import numpy as np\n",
    "from gurobipy import *\n",
    "import os"
   ]
  },
  {
   "cell_type": "markdown",
   "id": "9921afd6",
   "metadata": {},
   "source": [
    "Data file must be present in the same directory"
   ]
  },
  {
   "cell_type": "code",
   "execution_count": null,
   "id": "ea554a6e",
   "metadata": {},
   "outputs": [],
   "source": [
    "# Creating a function to retrieve data from the provided text file\n",
    "\n",
    "def fetch_aircraft_data(file_name):\n",
    "    data=open(os.getcwd()+'\\\\data_files\\\\'+file_name,'r')\n",
    "    lines=data.readlines()\n",
    "    num_planes=int(lines[0].split()[0])\n",
    "    freeze_time=int(lines[0].split()[1])\n",
    "\n",
    "    flight_details=np.empty([num_planes,6],dtype=float)\n",
    "    sep_time=np.empty([num_planes,num_planes],dtype=int)\n",
    "    s=''\n",
    "    for line in lines[1:]:\n",
    "        s=s+line\n",
    "    s=s.split()\n",
    "    flag=0\n",
    "    count=0\n",
    "    for items in [s[x:x+6+num_planes] for x in range(0,len(s),num_planes+6)]:\n",
    "        flight_details[count]=[float(x) for x in items[:6]]\n",
    "        sep_time[count]=[int(x) for x in items[6:]]\n",
    "        count=count+1\n",
    "    print(flight_details)\n",
    "    print(sep_time)\n",
    "    data.close()\n",
    "    return num_planes,flight_details,sep_time"
   ]
  },
  {
   "cell_type": "code",
   "execution_count": null,
   "id": "4acb89dc",
   "metadata": {
    "scrolled": true
   },
   "outputs": [],
   "source": [
    "# Implementing a model to find landing times of the aircrafts.\n",
    "\n",
    "def generate_landing_schedule(file_):\n",
    "    num_flights,flights,clearance=fetch_aircraft_data(file_)\n",
    "    try:\n",
    "        # Creating the Gurobi model\n",
    "        \n",
    "        model=Model(\"Aircraft Optimized Landing Schedule\")\n",
    "        M=max(flights[:,3])-min(flights[:,1])\n",
    "        z_pos={}\n",
    "        for i in np.arange(1,num_flights+1):\n",
    "            z_pos[i]=flights[i-1,5]\n",
    "        z_neg={}\n",
    "        for i in np.arange(1,num_flights+1):\n",
    "            z_neg[i]=flights[i-1,4]\n",
    "        x_={}\n",
    "        for i in np.arange(1,num_flights+1):\n",
    "            x_[i]=0\n",
    "        del_={}\n",
    "        for i in np.arange(1,num_flights+1):\n",
    "            for j in np.arange(1,num_flights+1):\n",
    "                del_[i,j]=0\n",
    "            \n",
    "        # Constructing the decision variables\n",
    "        \n",
    "        z_p=model.addVars(z_pos.keys(),lb=0,ub=GRB.INFINITY,obj=z_pos,vtype=GRB.CONTINUOUS,name=\"z_p\")\n",
    "        z_n=model.addVars(z_neg.keys(),lb=0,ub=GRB.INFINITY,obj=z_neg,vtype=GRB.CONTINUOUS,name=\"z_n\")\n",
    "        x=model.addVars(x_.keys(),lb=0,ub=GRB.INFINITY,obj=x_,vtype=GRB.CONTINUOUS,name=\"x\")\n",
    "        d=model.addVars(del_.keys(),lb=0,ub=1,obj=del_,vtype=GRB.BINARY,name=\"d\")\n",
    "\n",
    "        # Constructing the constraints\n",
    "        \n",
    "        model.addConstrs((x[j]-x[i]>=clearance[i-1,j-1] - d[j,i]*M for i in np.arange(1,num_flights+1) for j in np.arange(1,num_flights+1) if j!=i),name=\"Clearance\")\n",
    "        model.addConstrs((z_p[i]>=x[i]-flights[i-1,2] for i in np.arange(1,num_flights+1)),name=\"+\")\n",
    "        model.addConstrs((z_n[i]>=flights[i-1,2]-x[i] for i in np.arange(1,num_flights+1)),name=\"-\")\n",
    "        model.addConstrs((x[i]>=flights[i-1,1] for i in np.arange(1,num_flights+1)),name=\"Land after earliest landing time\")\n",
    "        model.addConstrs((x[i]<=flights[i-1,3] for i in np.arange(1,num_flights+1)),name=\"Land before latest landing time\")\n",
    "        model.addConstrs((d[i,j]+d[j,i]==1 for i in np.arange(1,num_flights +1) for j in np.arange(1,num_flights+1) if j!=i),name=\"~\")\n",
    "\n",
    "        \n",
    "        model.optimize()\n",
    "\n",
    "        # Displaying scheduled landing times\n",
    "        \n",
    "        for i in np.arange(1,num_flights+1):\n",
    "            print('%s %g' % ('SCHEDULED LANDING TIME FOR AIRCRAFT '+str(i)+\" = \", model.getVarByName(\"x[\"+str(i)+\"]\").X))\n",
    "        \n",
    "    # Error handling    \n",
    "              \n",
    "    except GurobiError as e:\n",
    "        print('Error code ' + str(e.errno) + \": \" + str(e))\n",
    "\n",
    "    except AttributeError as a:\n",
    "        print('Encountered an attribute error '+str(a))\n",
    "\n",
    "    return model\n",
    "\n",
    "generate_landing_schedule('airland1.txt')"
   ]
  },
  {
   "cell_type": "code",
   "execution_count": null,
   "id": "7e190533",
   "metadata": {},
   "outputs": [],
   "source": []
  }
 ],
 "metadata": {
  "kernelspec": {
   "display_name": "Python 3 (ipykernel)",
   "language": "python",
   "name": "python3"
  },
  "language_info": {
   "codemirror_mode": {
    "name": "ipython",
    "version": 3
   },
   "file_extension": ".py",
   "mimetype": "text/x-python",
   "name": "python",
   "nbconvert_exporter": "python",
   "pygments_lexer": "ipython3",
   "version": "3.9.13"
  }
 },
 "nbformat": 4,
 "nbformat_minor": 5
}
